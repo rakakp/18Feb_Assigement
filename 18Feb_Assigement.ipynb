{
 "cells": [
  {
   "cell_type": "code",
   "execution_count": 1,
   "id": "e2f75528-973d-4e45-b6e6-2c3cfe288542",
   "metadata": {},
   "outputs": [
    {
     "name": "stdout",
     "output_type": "stream",
     "text": [
      "18Feb_Assigement  \n"
     ]
    },
    {
     "data": {
      "text/plain": [
       "' Q5 \\n\\nKey Difference Between SOAP and REST API\\n\\n    SOAP stands for Simple Object Access Protocol whereas REST stands for Representational State Transfer.\\n    SOAP is a protocol whereas REST is an architectural pattern.\\n    SOAP uses service interfaces to expose its functionality to client applications while REST uses Uniform Service locators to access to the components on the hardware device.\\n    SOAP needs more bandwidth for its usage whereas REST doesn’t need much bandwidth.\\n    Comparing SOAP vs REST API, SOAP only works with XML formats whereas REST work with plain text, XML, HTML and JSON.\\n    SOAP cannot make use of REST whereas REST can make use of SOAP.\\n\\n'"
      ]
     },
     "execution_count": 1,
     "metadata": {},
     "output_type": "execute_result"
    }
   ],
   "source": [
    "print(\"18Feb_Assigement  \")\n",
    "''' Q1\n",
    "An application programming interface (API) is the medium by which different software interact\n",
    "API is used in aarogya setu app\n",
    "'''\n",
    "\n",
    "''' Q2\n",
    "APIs bring a new level of modularity to applications. APIs allow developers to leverage the expertise of other applications. When an organization develops an application, they no longer need to reinvent the wheel when it comes to things like authentication, communication, payment processing, and maps. Instead developers can leverage the seamless plug in capabilities and functionality of APIs. APIs allow applications and system components to communicate with each other on internal networks as well as over the Internet.\n",
    "since APIs can be accessed over the internet, they will have all the same disadvantages as any other Internet-based resource.  APIs are vulnerable to man-in-the-middle attacks, CSRF attacks, XSS attacks, SQL injection, and DDoS attacks.\n",
    "'''\n",
    "\n",
    "''' Q3 \n",
    "Web API is an API that can be accessed over the web using the HTTP Protocol. It is an Open-Source framework for a web application or web server that communicates between clients and websites for data access. As Web API implements protocol specification, it incorporates concepts like—Caching, URIs, Versioning, Headers, and various content formats.\n",
    "\n",
    "What is an API?\n",
    "An application programming interface (or API for short) is a software component that enables two otherwise unrelated applications to communicate with each other. The result of this communication is increased functionality. An API consists of standardized rules and functions that determine what data may be taken or modified within an application and how the process occurs. API work over TCP\n",
    "\n",
    "Web API Advantages\n",
    "When comparing web services vs. API software components, it helps to have a thorough understanding of the merits of both. Here are some of the many reasons an API is beneficial. \n",
    "    Improves connectivity\n",
    "    Supports traditional create, read, update, delete (CRUD) actions\n",
    "    Works with HTTP verbs including PUT, POST, DELETE, and GET\n",
    "    Assists by exposing service data to the browser\n",
    "    Based on HTTP, which you can define and expose in a REST-ful manner\n",
    "'''\n",
    "\n",
    "''' Q4\n",
    "What is SOAP architecture?\n",
    "SOAP is a protocol for the exchange of information in a distributed environment. SOAP messages are encoded as XML documents and can be exchanged using various underlying protocols.\n",
    "\n",
    "REST is a software architectural style that defines the set of rules to be used for creating web services. Web services which follow the REST architectural style are known as RESTful web services. It allows requesting systems to access and manipulate web resources by using a uniform and predefined set of rules\n",
    "\n",
    "1)  SOAP is a protocol.\t\n",
    "2)\tSOAP stands for Simple Object Access Protocol.\t\n",
    "3)\tSOAP can't use REST because it is a protocol.\t\n",
    "4)\tSOAP uses services interfaces to expose the business logic.\t\n",
    "5)\tJAX-WS is the java API for SOAP web services.\t\n",
    "6)\tSOAP defines standards to be strictly followed. \t\n",
    "7)\tSOAP requires more bandwidth and resource than REST.\n",
    "8) \tSOAP defines its own security.\n",
    "9) \tSOAP permits XML data format only.\n",
    "10) SOAP is less preferred than REST.\n",
    "\n",
    "1)  REST is an architectural style.\n",
    "2)  REST stands for REpresentational State Transfer.\n",
    "3)  REST can use SOAP web services because it is a concept and can use any protocol like HTTP, SOAP.\n",
    "4)  REST uses URI to expose business logic.\n",
    "5)  REST does not define too much standards like SOAP.\n",
    "6)  REST requires less bandwidth and resource than SOAP.\n",
    "7)  RESTful web services inherits security measures from the underlying transport.\n",
    "8)  REST permits different data format such as Plain text, HTML, XML, JSON etc.\n",
    "9)  REST more preferred than SOAP\n",
    "'''\n",
    "\n",
    "''' Q5 \n",
    "\n",
    "Key Difference Between SOAP and REST API\n",
    "\n",
    "    SOAP stands for Simple Object Access Protocol whereas REST stands for Representational State Transfer.\n",
    "    SOAP is a protocol whereas REST is an architectural pattern.\n",
    "    SOAP uses service interfaces to expose its functionality to client applications while REST uses Uniform Service locators to access to the components on the hardware device.\n",
    "    SOAP needs more bandwidth for its usage whereas REST doesn’t need much bandwidth.\n",
    "    Comparing SOAP vs REST API, SOAP only works with XML formats whereas REST work with plain text, XML, HTML and JSON.\n",
    "    SOAP cannot make use of REST whereas REST can make use of SOAP.\n",
    "\n",
    "''' \n"
   ]
  },
  {
   "cell_type": "code",
   "execution_count": 3,
   "id": "27e3c1ad-b021-4c9a-9b82-798a8180a5dd",
   "metadata": {},
   "outputs": [
    {
     "name": "stdout",
     "output_type": "stream",
     "text": [
      "18Feb_Assigement  \n"
     ]
    }
   ],
   "source": [
    "print(\"18Feb_Assigement  \")"
   ]
  },
  {
   "cell_type": "code",
   "execution_count": null,
   "id": "1946450e-2b6b-4441-a9d5-145c11eaf757",
   "metadata": {},
   "outputs": [],
   "source": []
  }
 ],
 "metadata": {
  "kernelspec": {
   "display_name": "Python 3 (ipykernel)",
   "language": "python",
   "name": "python3"
  },
  "language_info": {
   "codemirror_mode": {
    "name": "ipython",
    "version": 3
   },
   "file_extension": ".py",
   "mimetype": "text/x-python",
   "name": "python",
   "nbconvert_exporter": "python",
   "pygments_lexer": "ipython3",
   "version": "3.10.8"
  }
 },
 "nbformat": 4,
 "nbformat_minor": 5
}
